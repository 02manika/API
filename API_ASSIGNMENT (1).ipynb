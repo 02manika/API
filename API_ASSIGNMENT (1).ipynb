{
 "cells": [
  {
   "cell_type": "code",
   "execution_count": null,
   "id": "e3024394-ced3-4926-883e-c6de0276abb7",
   "metadata": {},
   "outputs": [],
   "source": [
    "Q1. What is an API? Give an example, where an API is used in real life.\n",
    "\n",
    "API stands for application programming interface . It helps to interact with different applications .\n",
    "For example THE GOOGLE SEARCH"
   ]
  },
  {
   "cell_type": "code",
   "execution_count": null,
   "id": "bfa303cc-9092-4a73-947e-7e33686a0698",
   "metadata": {},
   "outputs": [],
   "source": [
    "Q2. Give advantages and disadvantages of using API.\n",
    "\n",
    "ADVANTAGES : \n",
    "It provides an interface / way to interact between different applications written in same / diiferent languages.\n",
    "\n",
    "DISADVANTAGES :\n",
    "1. It is expensive.\n",
    "2. It increases time complexity."
   ]
  },
  {
   "cell_type": "code",
   "execution_count": null,
   "id": "012f0537-4a62-4b67-896f-2a26ec4529f6",
   "metadata": {},
   "outputs": [],
   "source": [
    "Q3. What is a Web API? Differentiate between API and Web API.\n",
    "\n",
    "WEB API uses web applications for interaction and particularly uses HTTP protocol.\n",
    "The major difference between API and WEB API is of protocols used , WEB API uses HTTP protocol and API uses HTTP , TCP/IP protocol."
   ]
  },
  {
   "cell_type": "code",
   "execution_count": null,
   "id": "715b698f-245c-441e-9918-a52ef83ae05f",
   "metadata": {},
   "outputs": [],
   "source": [
    "Q4. Explain REST and SOAP Architecture. Mention shortcomings of SOAP.\n",
    "\n",
    "REST ARCHITECTURE is used in web based API. It is used for communication over web. \n",
    "It uses HTTP protocol.\n",
    "PUT , GET , POST , DELETE methods are used.\n",
    "Its is known for it's simplicity , scalibilty and flexibilty.\n",
    "\n",
    "SOAP ARCHITECTURE is used for sending messages , nd uses XML.\n",
    "It uses WSDL (WEB SERVICE DESCRIPTION LANGUAGE).\n",
    "It uses HTTP , SMTP , TCP/IP protocol.\n",
    "\n",
    "SHORTCOMINGS OF SOAP :\n",
    "    It is little complex."
   ]
  },
  {
   "cell_type": "code",
   "execution_count": null,
   "id": "e5eacc90-8b36-417e-a5ca-db3c292a201b",
   "metadata": {},
   "outputs": [],
   "source": [
    "Q5. Differentiate between REST and SOAP.\n",
    "\n",
    "REST ARCHITECTURE is used in web based API. It is used for communication over web. \n",
    "It uses HTTP protocol.\n",
    "PUT , GET , POST , DELETE methods are used.\n",
    "Its is known for it's simplicity , scalibilty and flexibilty.\n",
    "\n",
    "SOAP ARCHITECTURE is used for sending messages , nd uses XML.\n",
    "It uses WSDL (WEB SERVICE DESCRIPTION LANGUAGE).\n",
    "It uses HTTP , SMTP , TCP/IP protocol.\n",
    "It is more light weight than REST."
   ]
  }
 ],
 "metadata": {
  "kernelspec": {
   "display_name": "anaconda-panel-2023.05-py310",
   "language": "python",
   "name": "conda-env-anaconda-panel-2023.05-py310-py"
  },
  "language_info": {
   "codemirror_mode": {
    "name": "ipython",
    "version": 3
   },
   "file_extension": ".py",
   "mimetype": "text/x-python",
   "name": "python",
   "nbconvert_exporter": "python",
   "pygments_lexer": "ipython3",
   "version": "3.11.4"
  }
 },
 "nbformat": 4,
 "nbformat_minor": 5
}
